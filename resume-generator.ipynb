{
 "cells": [
  {
   "cell_type": "code",
   "execution_count": 3,
   "id": "integral-selling",
   "metadata": {},
   "outputs": [],
   "source": [
    "\"\"\"\n",
    "Generate pdf resume from markdown and css.\n",
    "\"\"\"\n",
    "\n",
    "import argparse\n",
    "import codecs\n",
    "import os\n",
    "# import pdfkit\n",
    "\n",
    "from jinja2 import Environment, PackageLoader, Markup\n",
    "from markdown2 import markdown\n",
    "#from subprocess import call"
   ]
  },
  {
   "cell_type": "code",
   "execution_count": 4,
   "id": "bigger-relations",
   "metadata": {},
   "outputs": [],
   "source": [
    "def generate_markdown(mdfile):\n",
    "    \"\"\"\n",
    "    Generate html from a markdown file at the specified path.\n",
    "    \"\"\"\n",
    "    f = codecs.open(mdfile, encoding='utf-8')\n",
    "    html = markdown(f.read())\n",
    "    f.close()\n",
    "\n",
    "    return html"
   ]
  },
  {
   "cell_type": "code",
   "execution_count": 5,
   "id": "british-lotus",
   "metadata": {},
   "outputs": [],
   "source": [
    "def create_template(content, css):\n",
    "    \"\"\"\n",
    "    Plug the html content into the body of the template.\n",
    "    \"\"\"\n",
    "    env = Environment(loader=PackageLoader('resume', '.'))\n",
    "    template = env.get_template('src/base.html')\n",
    "\n",
    "    return template.render(content=content, css=css)"
   ]
  },
  {
   "cell_type": "code",
   "execution_count": 6,
   "id": "chicken-words",
   "metadata": {},
   "outputs": [],
   "source": [
    "mdfile = 'src/md/phillip-peng.md'"
   ]
  },
  {
   "cell_type": "code",
   "execution_count": 7,
   "id": "indirect-better",
   "metadata": {},
   "outputs": [
    {
     "ename": "ModuleNotFoundError",
     "evalue": "No module named 'weasyprint'",
     "output_type": "error",
     "traceback": [
      "\u001b[0;31m---------------------------------------------------------------------------\u001b[0m",
      "\u001b[0;31mModuleNotFoundError\u001b[0m                       Traceback (most recent call last)",
      "\u001b[0;32m<ipython-input-7-61cbfeb3e305>\u001b[0m in \u001b[0;36m<module>\u001b[0;34m\u001b[0m\n\u001b[1;32m     12\u001b[0m \u001b[0mf\u001b[0m\u001b[0;34m.\u001b[0m\u001b[0mclose\u001b[0m\u001b[0;34m(\u001b[0m\u001b[0;34m)\u001b[0m\u001b[0;34m\u001b[0m\u001b[0;34m\u001b[0m\u001b[0m\n\u001b[1;32m     13\u001b[0m \u001b[0;34m\u001b[0m\u001b[0m\n\u001b[0;32m---> 14\u001b[0;31m \u001b[0;32mfrom\u001b[0m \u001b[0mweasyprint\u001b[0m \u001b[0;32mimport\u001b[0m \u001b[0mHTML\u001b[0m\u001b[0;34m,\u001b[0m \u001b[0mCSS\u001b[0m\u001b[0;34m\u001b[0m\u001b[0;34m\u001b[0m\u001b[0m\n\u001b[0m\u001b[1;32m     15\u001b[0m HTML(html).write_pdf('./build/pdf/{}.pdf'.format(name),\n\u001b[1;32m     16\u001b[0m     stylesheets=[CSS(string='@page { size: A3; margin: 0.5cm }')])\n",
      "\u001b[0;31mModuleNotFoundError\u001b[0m: No module named 'weasyprint'"
     ]
    }
   ],
   "source": [
    "content = generate_markdown(mdfile)\n",
    "\n",
    "template = create_template(content, 'src/css/modern.css')\n",
    "\n",
    "filename = os.path.basename(mdfile)\n",
    "\n",
    "name = os.path.splitext(filename)[0] # john-cadengo\n",
    "\n",
    "html = 'build/html/{}.html'.format(name)\n",
    "f = codecs.open(html, 'w', encoding='utf-8')\n",
    "f.write(template)\n",
    "f.close()\n",
    "\n",
    "from weasyprint import HTML, CSS\n",
    "HTML(html).write_pdf('./build/pdf/{}.pdf'.format(name),\n",
    "    stylesheets=[CSS(string='@page { size: A3; margin: 0.5cm }')])"
   ]
  },
  {
   "cell_type": "code",
   "execution_count": null,
   "id": "demonstrated-router",
   "metadata": {},
   "outputs": [],
   "source": []
  }
 ],
 "metadata": {
  "kernelspec": {
   "display_name": "Python 3",
   "language": "python",
   "name": "python3"
  },
  "language_info": {
   "codemirror_mode": {
    "name": "ipython",
    "version": 3
   },
   "file_extension": ".py",
   "mimetype": "text/x-python",
   "name": "python",
   "nbconvert_exporter": "python",
   "pygments_lexer": "ipython3",
   "version": "3.8.8"
  }
 },
 "nbformat": 4,
 "nbformat_minor": 5
}
