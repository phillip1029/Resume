{
 "cells": [
  {
   "cell_type": "code",
   "execution_count": 2,
   "id": "seven-accuracy",
   "metadata": {},
   "outputs": [],
   "source": [
    "\"\"\"\n",
    "Generate pdf resume from markdown and css.\n",
    "\"\"\"\n",
    "\n",
    "import argparse\n",
    "import codecs\n",
    "import os\n",
    "import pdfkit\n",
    "\n",
    "from jinja2 import Environment, PackageLoader, Markup\n",
    "from markdown2 import markdown\n",
    "#from subprocess import call"
   ]
  },
  {
   "cell_type": "code",
   "execution_count": 3,
   "id": "objective-respondent",
   "metadata": {},
   "outputs": [],
   "source": [
    "def generate_markdown(mdfile):\n",
    "    \"\"\"\n",
    "    Generate html from a markdown file at the specified path.\n",
    "    \"\"\"\n",
    "    f = codecs.open(mdfile, encoding='utf-8')\n",
    "    html = Markup(markdown(f.read()))\n",
    "    f.close()\n",
    "\n",
    "    return html\n",
    "\n",
    "\n",
    "def create_template(content, css):\n",
    "    \"\"\"\n",
    "    Plug the html content into the body of the template.\n",
    "    \"\"\"\n",
    "    env = Environment(loader=PackageLoader('resume', '.'))\n",
    "    template = env.get_template('src/base.html')\n",
    "\n",
    "    return template.render(content=content, css=css)"
   ]
  },
  {
   "cell_type": "code",
   "execution_count": 24,
   "id": "printable-patient",
   "metadata": {},
   "outputs": [],
   "source": [
    "mdfile = 'src/md/john-cadengo.md'"
   ]
  },
  {
   "cell_type": "code",
   "execution_count": 25,
   "id": "material-camping",
   "metadata": {},
   "outputs": [],
   "source": [
    "content = generate_markdown(mdfile)"
   ]
  },
  {
   "cell_type": "code",
   "execution_count": 26,
   "id": "hundred-album",
   "metadata": {},
   "outputs": [],
   "source": [
    "template = create_template(content, 'src/css/default.css')"
   ]
  },
  {
   "cell_type": "code",
   "execution_count": 27,
   "id": "deadly-generator",
   "metadata": {},
   "outputs": [],
   "source": [
    "filename = os.path.basename(mdfile)"
   ]
  },
  {
   "cell_type": "code",
   "execution_count": 28,
   "id": "sought-assessment",
   "metadata": {},
   "outputs": [],
   "source": [
    "name = os.path.splitext(filename)[0] # john-cadengo"
   ]
  },
  {
   "cell_type": "code",
   "execution_count": 29,
   "id": "mature-impossible",
   "metadata": {},
   "outputs": [],
   "source": [
    "html = 'build/html/{}.html'.format(name)\n",
    "f = codecs.open(html, 'w', encoding='utf-8')\n",
    "f.write(template)\n",
    "f.close()"
   ]
  },
  {
   "cell_type": "code",
   "execution_count": 30,
   "id": "extraordinary-softball",
   "metadata": {},
   "outputs": [],
   "source": [
    "from weasyprint import HTML, CSS\n",
    "HTML(html).write_pdf('./build/pdf/{}.pdf'.format(name),\n",
    "    stylesheets=[CSS(string='@page { size: A3; margin: 1cm }')])"
   ]
  },
  {
   "cell_type": "code",
   "execution_count": null,
   "id": "animated-kentucky",
   "metadata": {},
   "outputs": [],
   "source": []
  }
 ],
 "metadata": {
  "kernelspec": {
   "display_name": "Python 3",
   "language": "python",
   "name": "python3"
  },
  "language_info": {
   "codemirror_mode": {
    "name": "ipython",
    "version": 3
   },
   "file_extension": ".py",
   "mimetype": "text/x-python",
   "name": "python",
   "nbconvert_exporter": "python",
   "pygments_lexer": "ipython3",
   "version": "3.8.8"
  }
 },
 "nbformat": 4,
 "nbformat_minor": 5
}
