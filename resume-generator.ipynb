{
 "cells": [
  {
   "cell_type": "code",
   "execution_count": 119,
   "id": "armed-grammar",
   "metadata": {},
   "outputs": [],
   "source": [
    "\"\"\"\n",
    "Generate pdf resume from markdown and css.\n",
    "\"\"\"\n",
    "\n",
    "import argparse\n",
    "import codecs\n",
    "import os\n",
    "# import pdfkit\n",
    "\n",
    "from jinja2 import Environment, PackageLoader, Markup\n",
    "from markdown2 import markdown\n",
    "#from subprocess import call"
   ]
  },
  {
   "cell_type": "code",
   "execution_count": 120,
   "id": "varying-rebel",
   "metadata": {},
   "outputs": [],
   "source": [
    "def generate_markdown(mdfile):\n",
    "    \"\"\"\n",
    "    Generate html from a markdown file at the specified path.\n",
    "    \"\"\"\n",
    "    f = codecs.open(mdfile, encoding='utf-8')\n",
    "    html = markdown(f.read())\n",
    "    f.close()\n",
    "\n",
    "    return html"
   ]
  },
  {
   "cell_type": "code",
   "execution_count": 194,
   "id": "inner-regression",
   "metadata": {},
   "outputs": [],
   "source": [
    "def create_template(content, css):\n",
    "    \"\"\"\n",
    "    Plug the html content into the body of the template.\n",
    "    \"\"\"\n",
    "    env = Environment(loader=PackageLoader('resume', '.'))\n",
    "    template = env.get_template('src/base.html')\n",
    "\n",
    "    return template.render(content=content, css=css)"
   ]
  },
  {
   "cell_type": "code",
   "execution_count": 249,
   "id": "secret-climate",
   "metadata": {},
   "outputs": [],
   "source": [
    "mdfile = 'src/md/phillip-peng.md'"
   ]
  },
  {
   "cell_type": "code",
   "execution_count": 250,
   "id": "spread-stadium",
   "metadata": {},
   "outputs": [],
   "source": [
    "content = generate_markdown(mdfile)"
   ]
  },
  {
   "cell_type": "code",
   "execution_count": 251,
   "id": "constant-twist",
   "metadata": {},
   "outputs": [],
   "source": [
    "# content"
   ]
  },
  {
   "cell_type": "code",
   "execution_count": 252,
   "id": "hearing-tattoo",
   "metadata": {},
   "outputs": [],
   "source": [
    "template = create_template(content, 'src/css/modern.css')\n",
    "\n",
    "filename = os.path.basename(mdfile)\n",
    "\n",
    "name = os.path.splitext(filename)[0] # john-cadengo"
   ]
  },
  {
   "cell_type": "code",
   "execution_count": 253,
   "id": "million-deviation",
   "metadata": {},
   "outputs": [],
   "source": [
    "html = 'build/html/{}.html'.format(name)\n",
    "f = codecs.open(html, 'w', encoding='utf-8')\n",
    "f.write(template)\n",
    "f.close()"
   ]
  },
  {
   "cell_type": "code",
   "execution_count": 254,
   "id": "supported-christopher",
   "metadata": {},
   "outputs": [],
   "source": [
    "from weasyprint import HTML, CSS\n",
    "HTML(html).write_pdf('./build/pdf/{}.pdf'.format(name),\n",
    "    stylesheets=[CSS(string='@page { size: A3; margin: 0.5cm }')])"
   ]
  },
  {
   "cell_type": "code",
   "execution_count": null,
   "id": "antique-muscle",
   "metadata": {},
   "outputs": [],
   "source": []
  },
  {
   "cell_type": "code",
   "execution_count": null,
   "id": "nasty-stand",
   "metadata": {},
   "outputs": [],
   "source": []
  },
  {
   "cell_type": "code",
   "execution_count": null,
   "id": "finnish-phenomenon",
   "metadata": {},
   "outputs": [],
   "source": []
  },
  {
   "cell_type": "code",
   "execution_count": null,
   "id": "certified-adaptation",
   "metadata": {},
   "outputs": [],
   "source": []
  },
  {
   "cell_type": "markdown",
   "id": "broadband-inflation",
   "metadata": {},
   "source": [
    "def generate_markdown(mdfile):\n",
    "    \"\"\"\n",
    "    Generate html from a markdown file at the specified path.\n",
    "    \"\"\"\n",
    "    f = codecs.open(mdfile, encoding='utf-8')\n",
    "    html = Markup(markdown(f.read()))\n",
    "    f.close()\n",
    "\n",
    "    return html"
   ]
  }
 ],
 "metadata": {
  "kernelspec": {
   "display_name": "Python 3",
   "language": "python",
   "name": "python3"
  },
  "language_info": {
   "codemirror_mode": {
    "name": "ipython",
    "version": 3
   },
   "file_extension": ".py",
   "mimetype": "text/x-python",
   "name": "python",
   "nbconvert_exporter": "python",
   "pygments_lexer": "ipython3",
   "version": "3.8.8"
  }
 },
 "nbformat": 4,
 "nbformat_minor": 5
}
