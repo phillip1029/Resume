{
 "cells": [
  {
   "cell_type": "code",
   "execution_count": 1,
   "id": "incorporated-offering",
   "metadata": {},
   "outputs": [],
   "source": [
    "\"\"\"\n",
    "Generate pdf resume from markdown and css.\n",
    "\"\"\"\n",
    "\n",
    "import argparse\n",
    "import codecs\n",
    "import os\n",
    "import pdfkit\n",
    "\n",
    "from jinja2 import Environment, PackageLoader, Markup\n",
    "from markdown2 import markdown\n",
    "#from subprocess import call"
   ]
  },
  {
   "cell_type": "code",
   "execution_count": 62,
   "id": "wireless-mounting",
   "metadata": {},
   "outputs": [],
   "source": [
    "def generate_markdown(mdfile):\n",
    "    \"\"\"\n",
    "    Generate html from a markdown file at the specified path.\n",
    "    \"\"\"\n",
    "    f = codecs.open(mdfile, encoding='utf-8')\n",
    "    html = Markup(markdown(f.read()))\n",
    "    f.close()\n",
    "\n",
    "    return html\n",
    "\n",
    "\n",
    "def create_template(content, css):\n",
    "    \"\"\"\n",
    "    Plug the html content into the body of the template.\n",
    "    \"\"\"\n",
    "    env = Environment(loader=PackageLoader('resume', '.'))\n",
    "    template = env.get_template('src/base.html')\n",
    "\n",
    "    return template.render(content=content, css=css)"
   ]
  },
  {
   "cell_type": "code",
   "execution_count": 63,
   "id": "iraqi-dependence",
   "metadata": {},
   "outputs": [],
   "source": [
    "mdfile = 'src/md/phillip-peng.md'"
   ]
  },
  {
   "cell_type": "code",
   "execution_count": 72,
   "id": "fantastic-luxury",
   "metadata": {},
   "outputs": [],
   "source": [
    "content = generate_markdown(mdfile)\n",
    "\n",
    "template = create_template(content, 'src/css/default.css')\n",
    "\n",
    "filename = os.path.basename(mdfile)\n",
    "\n",
    "name = os.path.splitext(filename)[0] # john-cadengo\n",
    "\n",
    "html = 'build/html/{}.html'.format(name)\n",
    "f = codecs.open(html, 'w', encoding='utf-8')\n",
    "f.write(template)\n",
    "f.close()\n",
    "\n",
    "from weasyprint import HTML, CSS\n",
    "HTML(html).write_pdf('./build/pdf/{}.pdf'.format(name),\n",
    "    stylesheets=[CSS(string='@page { size: A3; margin: 0.5cm }')])"
   ]
  },
  {
   "cell_type": "code",
   "execution_count": null,
   "id": "opening-editor",
   "metadata": {},
   "outputs": [],
   "source": []
  }
 ],
 "metadata": {
  "kernelspec": {
   "display_name": "Python 3",
   "language": "python",
   "name": "python3"
  },
  "language_info": {
   "codemirror_mode": {
    "name": "ipython",
    "version": 3
   },
   "file_extension": ".py",
   "mimetype": "text/x-python",
   "name": "python",
   "nbconvert_exporter": "python",
   "pygments_lexer": "ipython3",
   "version": "3.8.8"
  }
 },
 "nbformat": 4,
 "nbformat_minor": 5
}
